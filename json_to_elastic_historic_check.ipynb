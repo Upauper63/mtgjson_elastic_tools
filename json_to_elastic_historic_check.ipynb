{
 "cells": [
  {
   "cell_type": "code",
   "execution_count": 1,
   "metadata": {},
   "outputs": [],
   "source": [
    "import re\n",
    "from selenium import webdriver\n",
    "from time import sleep\n",
    "browser = webdriver.Chrome()\n",
    "from selenium.webdriver.common.keys import Keys\n",
    "\n",
    "import json\n",
    "\n",
    "exp = 'KLR'\n",
    "mtg_json = open(exp + '.json', 'r', encoding=\"utf8\")\n",
    "data = json.load(mtg_json)\n",
    "mtg_json.close()\n",
    "\n",
    "data = data['data']\n",
    "cards = data['cards']\n",
    "\n",
    "browser.get('https://localhost:8900/_plugin/kibana/app/kibana#/dev_tools/console?_g=()')\n",
    "\n",
    "for card in cards:\n",
    "    sleep(3)\n",
    "    browser.find_element_by_xpath('//*[@id=\"ConAppEditor\"]/textarea').send_keys(Keys.CONTROL + \"a\")\n",
    "    browser.find_element_by_xpath('//*[@id=\"ConAppEditor\"]/textarea').send_keys(Keys.DELETE)\n",
    "    query = 'GET /mtg/_search\\n{\"_source\": [\"_id\",\"name\",\"legalities\"],\"query\": {\"bool\": {\"should\": [{\"bool\": {\"must\": [{\"match\": {\"name.keyword\": \"' + card['name'] + '\"}}]}}]}}}'\n",
    "    sleep(1)\n",
    "    browser.find_element_by_xpath('//*[@id=\"ConAppEditor\"]/textarea').send_keys(query)\n",
    "    sleep(3)\n",
    "    browser.find_element_by_xpath('//*[@id=\"ConAppEditorActions\"]/span[1]/button').click()"
   ]
  }
 ],
 "metadata": {
  "kernelspec": {
   "display_name": "Python 3",
   "language": "python",
   "name": "python3"
  },
  "language_info": {
   "codemirror_mode": {
    "name": "ipython",
    "version": 3
   },
   "file_extension": ".py",
   "mimetype": "text/x-python",
   "name": "python",
   "nbconvert_exporter": "python",
   "pygments_lexer": "ipython3",
   "version": "3.8.3"
  }
 },
 "nbformat": 4,
 "nbformat_minor": 4
}
