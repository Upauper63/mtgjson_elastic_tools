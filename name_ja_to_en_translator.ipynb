{
 "cells": [
  {
   "cell_type": "code",
   "execution_count": 1,
   "metadata": {},
   "outputs": [],
   "source": [
    "import re\n",
    "from selenium import webdriver\n",
    "from time import sleep\n",
    "browser = webdriver.Chrome()"
   ]
  },
  {
   "cell_type": "code",
   "execution_count": 2,
   "metadata": {},
   "outputs": [],
   "source": [
    "with open('memo.txt', 'r', encoding='utf8') as f:\n",
    "    name_ls = []\n",
    "    for name in f.read().splitlines():\n",
    "        name_ls.append(name)\n",
    "\n",
    "name_en_ls = []\n",
    "browser.get('https://www.hareruyamtg.com/ja/')\n",
    "for name in name_ls:\n",
    "    browser.find_element_by_xpath('//*[@id=\"leftmenu_search_goods_name\"]').clear()\n",
    "    sleep(1)\n",
    "    browser.find_element_by_xpath('//*[@id=\"leftmenu_search_goods_name\"]').send_keys(name)\n",
    "    browser.find_element_by_xpath('//*[@id=\"leftmenu_search_goods_submit\"]').click()\n",
    "    elem_box = browser.find_element_by_class_name('itemList')\n",
    "\n",
    "    name = elem_box.find_element_by_class_name('itemName').text\n",
    "    name_from = name.find('/') + 1\n",
    "    name_end = name.find('》')\n",
    "    query_pre = '{\"bool\": {\"must\": [{\"match\": {\"name.keyword\": \"'\n",
    "    query_suf = '\"}}]}},'\n",
    "    name = query_pre + name[name_from:name_end] + query_suf\n",
    "    name_en_ls.append(name)\n",
    "    sleep(2)\n",
    "\n",
    "# 最後の句は最後の,を削除\n",
    "tmp_name = name_en_ls[-1]\n",
    "name_en_ls[-1] = tmp_name[:-1]\n",
    "\n",
    "with open('memo_post_query.txt', 'w', encoding='utf8') as f:\n",
    "    name_en = \"\\n\".join(name_en_ls)\n",
    "    post_query_pre = 'POST /mtg/_update_by_query?conflicts=proceed&pretty\\n{\"query\": {\"bool\": {\"should\": ['\n",
    "    post_query_suf = ']}},\"script\": {\"inline\": \"\"\"ctx._source.legalities.historic= \"Legal\";\"\"\"}}'\n",
    "    f.write(post_query_pre + name_en + post_query_suf)\n",
    "\n",
    "with open('memo_get_query.txt', 'w', encoding='utf8') as f:\n",
    "    name_en = \"\\n\".join(name_en_ls)\n",
    "    get_query_pre = 'GET /mtg/_search\\n{\"_source\": [\"_id\",\"name\",\"legalities\"],\"size\": 1000, \"query\": {\"bool\": {\"should\": ['\n",
    "    get_query_suf = ']}}}'\n",
    "    f.write(get_query_pre + name_en + get_query_suf)"
   ]
  }
 ],
 "metadata": {
  "kernelspec": {
   "display_name": "Python 3",
   "language": "python",
   "name": "python3"
  },
  "language_info": {
   "codemirror_mode": {
    "name": "ipython",
    "version": 3
   },
   "file_extension": ".py",
   "mimetype": "text/x-python",
   "name": "python",
   "nbconvert_exporter": "python",
   "pygments_lexer": "ipython3",
   "version": "3.8.3"
  }
 },
 "nbformat": 4,
 "nbformat_minor": 4
}
