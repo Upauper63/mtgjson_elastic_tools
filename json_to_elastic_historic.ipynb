{
 "cells": [
  {
   "cell_type": "code",
   "execution_count": 9,
   "metadata": {},
   "outputs": [],
   "source": [
    "import json\n",
    "\n",
    "exp = 'AKR'\n",
    "\n",
    "mtg_json = open(exp + '.json', 'r', encoding=\"utf8\")\n",
    "data = json.load(mtg_json)\n",
    "mtg_json.close()\n",
    "\n",
    "data = data['data']\n",
    "cards = data['cards']\n",
    "\n",
    "query_pre = '{\"bool\": {\"must\": [{\"match\": {\"name.keyword\": \"'\n",
    "query_suf = '\"}}]}},'\n",
    "\n",
    "cards_query_ls = set()\n",
    "for card in cards:\n",
    "    # 分割カード対応\n",
    "    if '//' in card['name']:\n",
    "        sep_pt = card['name'].find(' // ')\n",
    "        cards_query_ls.add(query_pre + card['name'][:sep_pt] + query_suf)\n",
    "        cards_query_ls.add(query_pre + card['name'][sep_pt + 4:] + query_suf)\n",
    "    else:    \n",
    "        cards_query_ls.add(query_pre + card['name'] + query_suf)\n",
    "cards_query = \"\\n\".join(cards_query_ls)\n",
    "\n",
    "# 最後の句は最後の,を削除\n",
    "cards_query = cards_query[:-1]\n",
    "\n",
    "with open(exp + '-memo_post_query.txt', 'w', encoding='utf8') as f:\n",
    "    post_query_pre = 'POST /mtg/_update_by_query?conflicts=proceed&pretty\\n{\"query\": {\"bool\": {\"should\": ['\n",
    "    post_query_suf = ']}},\"script\": {\"inline\": \"\"\"ctx._source.legalities.historic= \"Legal\";\"\"\"}}'\n",
    "    f.write(post_query_pre + cards_query + post_query_suf)\n",
    "\n",
    "with open(exp + '-memo_get_query.txt', 'w', encoding='utf8') as f:\n",
    "    get_query_pre = 'GET /mtg/_search\\n{\"_source\": [\"_id\",\"name\",\"legalities\"],\"size\": 1000, \"query\": {\"bool\": {\"should\": ['\n",
    "    get_query_suf = ']}}}'\n",
    "    f.write(get_query_pre + cards_query + get_query_suf)"
   ]
  }
 ],
 "metadata": {
  "kernelspec": {
   "display_name": "Python 3",
   "language": "python",
   "name": "python3"
  },
  "language_info": {
   "codemirror_mode": {
    "name": "ipython",
    "version": 3
   },
   "file_extension": ".py",
   "mimetype": "text/x-python",
   "name": "python",
   "nbconvert_exporter": "python",
   "pygments_lexer": "ipython3",
   "version": "3.8.3"
  }
 },
 "nbformat": 4,
 "nbformat_minor": 4
}
