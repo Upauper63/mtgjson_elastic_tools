{
 "cells": [
  {
   "cell_type": "code",
   "execution_count": 1,
   "metadata": {},
   "outputs": [],
   "source": [
    "import re\n",
    "from selenium import webdriver\n",
    "from time import sleep\n",
    "browser = webdriver.Chrome()"
   ]
  },
  {
   "cell_type": "code",
   "execution_count": 2,
   "metadata": {},
   "outputs": [],
   "source": [
    "search_word = '対抗呪文'\n",
    "lang = 'ja' # ja or en\n",
    "foil = False # True or False\n",
    "\n",
    "results = []\n",
    "# dictを格納していく\n",
    "def result_append(name, shop, price, stock, url):\n",
    "    results.append({\n",
    "        'name': name,\n",
    "        'shop': shop,\n",
    "        'price': price,\n",
    "        'stock': stock,\n",
    "        'url': url,\n",
    "    })    "
   ]
  },
  {
   "cell_type": "code",
   "execution_count": 3,
   "metadata": {},
   "outputs": [],
   "source": [
    "# 晴れる屋\n",
    "def hareruya_set_dict(elem):\n",
    "    price = elem.find_element_by_class_name('itemDetail__price').text\n",
    "    price = re.sub(r\"\\D\",'', price)\n",
    "    stock = elem.find_element_by_class_name('itemDetail__stock').text\n",
    "    stock = re.sub(r\"\\D\",'', stock)\n",
    "    if stock == '0':\n",
    "        return\n",
    "    url = elem.find_element_by_class_name('itemName').get_attribute('href')\n",
    "    result_append(name, shop, price, stock, url)\n",
    "\n",
    "shop = '晴れる屋'\n",
    "browser.get('https://www.hareruyamtg.com/ja/')\n",
    "browser.find_element_by_xpath('//*[@id=\"leftmenu_search_goods_name\"]').send_keys(search_word)\n",
    "browser.find_element_by_xpath('//*[@id=\"leftmenu_search_goods_submit\"]').click()\n",
    "elem_boxes = browser.find_elements_by_class_name('itemList')\n",
    "for elem_box in elem_boxes:\n",
    "    name = elem_box.find_element_by_class_name('itemName').text\n",
    "    if lang == 'ja' and '【JP】' in name:\n",
    "        if foil and '【Foil】' in name:\n",
    "            hareruya_set_dict(elem_box)\n",
    "        if not foil and not '【Foil】' in name:\n",
    "            hareruya_set_dict(elem_box)\n",
    "    if lang == 'en' and '【EN】' in name:\n",
    "        if foil and '【Foil】' in name:\n",
    "            hareruya_set_dict(elem_box)\n",
    "        if not foil and not '【Foil】' in name:\n",
    "            hareruya_set_dict(elem_box)\n",
    "sleep(3)"
   ]
  },
  {
   "cell_type": "code",
   "execution_count": 4,
   "metadata": {},
   "outputs": [],
   "source": [
    "# シングルスター\n",
    "def singlestar_set_dict(elem):\n",
    "    price = elem.find_element_by_class_name('price').text\n",
    "    price = re.sub(r\"\\D\",'', price)\n",
    "    stock = elem.find_element_by_class_name('stock').get_attribute(\"textContent\")\n",
    "    stock = re.sub(r\"\\D\",'', stock)\n",
    "    if stock == '':\n",
    "        return\n",
    "    url = elem.find_element_by_class_name('item_data_link').get_attribute('href')\n",
    "    result_append(name, shop, price, stock, url)\n",
    "\n",
    "shop = 'シングルスター'\n",
    "browser.get('https://www.singlestar.jp/')\n",
    "browser.find_element_by_xpath('//*[@id=\"leftcol\"]/div[1]/form/input').send_keys(search_word)\n",
    "browser.find_element_by_xpath('//*[@id=\"leftcol\"]/div[1]/form/span/input').click()\n",
    "elem_boxes = browser.find_elements_by_class_name('item_data')\n",
    "for elem_box in elem_boxes:\n",
    "    name = elem_box.find_element_by_tag_name('p').text\n",
    "    if lang == 'ja' and '【日本語版】' in name:\n",
    "        if foil and '[FOIL]' in name:\n",
    "            singlestar_set_dict(elem_box)\n",
    "        if not foil and not '[FOIL]' in name:\n",
    "            singlestar_set_dict(elem_box)\n",
    "    if lang == 'en' and '【英語版】' in name:\n",
    "        if foil and '[FOIL]' in name:\n",
    "            singlestar_set_dict(elem_box)\n",
    "        if not foil and not '[FOIL]' in name:\n",
    "            singlestar_set_dict(elem_box)\n",
    "sleep(3)"
   ]
  },
  {
   "cell_type": "code",
   "execution_count": 5,
   "metadata": {},
   "outputs": [],
   "source": [
    "# Enndal Games\n",
    "def enndal_games_set_dict(elem, name):\n",
    "    cells = elem.find_elements_by_tag_name('tr')\n",
    "    url = elem.find_element_by_class_name('product_name').get_attribute('href')\n",
    "    for cell in cells:\n",
    "        condi = cell.find_element_by_tag_name('th').text\n",
    "        if lang == 'ja' and '日本語' in condi:\n",
    "            price = cell.find_element_by_class_name('price').text\n",
    "            price = re.sub(r\"\\D\",'', price)\n",
    "            stock = cell.find_element_by_class_name('quantity').text\n",
    "            stock = re.sub(r\"\\D\",'', stock)\n",
    "            if stock == '0':\n",
    "                continue\n",
    "            result_append(name + condi, shop, price, stock, url)\n",
    "        if lang == 'en' and '英語' in condi:\n",
    "            price = cell.find_element_by_class_name('price').text\n",
    "            price = re.sub(r\"\\D\",'', price)\n",
    "            stock = cell.find_element_by_class_name('quantity').text\n",
    "            stock = re.sub(r\"\\D\",'', stock)\n",
    "            if stock == '0':\n",
    "                continue\n",
    "            result_append(name + condi, shop, price, stock, url)\n",
    "\n",
    "shop = 'Enndal Games'\n",
    "browser.get('https://www.enndalgames.com/')\n",
    "browser.find_element_by_xpath('//*[@id=\"search_ex\"]').send_keys(search_word)\n",
    "browser.find_element_by_class_name('search_btn_ex').click()\n",
    "elem_boxes = browser.find_elements_by_class_name('list_area')\n",
    "for elem_box in elem_boxes:\n",
    "    name = elem_box.find_element_by_class_name('product_name').text\n",
    "    if foil and '【Foil】' in name:\n",
    "        enndal_games_set_dict(elem_box, name)\n",
    "    if not foil and not '【Foil】' in name:\n",
    "        enndal_games_set_dict(elem_box, name)\n",
    "sleep(3)"
   ]
  },
  {
   "cell_type": "code",
   "execution_count": 6,
   "metadata": {},
   "outputs": [
    {
     "name": "stdout",
     "output_type": "stream",
     "text": [
      "{'name': '【JP】《対抗呪文/Counterspell》[5ED] 青C', 'shop': '晴れる屋', 'price': '200', 'stock': '1', 'url': 'https://www.hareruyamtg.com/ja/products/detail/5520?lang=JP'}\n",
      "{'name': '【JP】《対抗呪文/Counterspell》[7ED] 青C', 'shop': '晴れる屋', 'price': '200', 'stock': '5', 'url': 'https://www.hareruyamtg.com/ja/products/detail/7946?lang=JP'}\n",
      "{'name': '【JP】《対抗呪文/Counterspell》[A25] 青C', 'shop': '晴れる屋', 'price': '200', 'stock': '25', 'url': 'https://www.hareruyamtg.com/ja/products/detail/13742?lang=JP'}\n",
      "{'name': '【JP】《対抗呪文/Counterspell》[EMA] 青C', 'shop': '晴れる屋', 'price': '200', 'stock': '51', 'url': 'https://www.hareruyamtg.com/ja/products/detail/14159?lang=JP'}\n",
      "{'name': '【JP】《対抗呪文/Counterspell》[JvC] 青C', 'shop': '晴れる屋', 'price': '150', 'stock': '25', 'url': 'https://www.hareruyamtg.com/ja/products/detail/38385?lang=JP'}\n",
      "{'name': '【JP】《対抗呪文/Counterspell》[TMP] 青C', 'shop': '晴れる屋', 'price': '150', 'stock': '10', 'url': 'https://www.hareruyamtg.com/ja/products/detail/53752?lang=JP'}\n",
      "{'name': '【JP】【黒枠】《対抗呪文/Counterspell》[4ED] 青U', 'shop': '晴れる屋', 'price': '1200', 'stock': '12', 'url': 'https://www.hareruyamtg.com/ja/products/detail/67417?lang=JP'}\n",
      "{'name': '【JP】■拡張アート■《対抗呪文/Counterspell》[CMR-BF] 青C', 'shop': '晴れる屋', 'price': '250', 'stock': '16', 'url': 'https://www.hareruyamtg.com/ja/products/detail/91937?lang=JP'}\n",
      "{'name': '対抗呪文/Counterspell (拡張アート版) 【日本語版】 [CMR-青C]', 'shop': 'シングルスター', 'price': '130', 'stock': '8', 'url': 'https://www.singlestar.jp/product/187917'}\n",
      "{'name': '対抗呪文/Counterspell 【日本語版】 [EMA-青C]《状態:NM》', 'shop': 'シングルスター', 'price': '80', 'stock': '5', 'url': 'https://www.singlestar.jp/product/30571'}\n",
      "{'name': '対抗呪文/Counterspell 【日本語版】 [CMR-青C]', 'shop': 'シングルスター', 'price': '90', 'stock': '8', 'url': 'https://www.singlestar.jp/product/187221'}\n",
      "{'name': '(A25-CU)Counterspell/対抗呪文日本語 NM', 'shop': 'Enndal Games', 'price': '99', 'stock': '2', 'url': 'https://www.enndalgames.com/%28A25-CU%29Counterspell%2F%E5%AF%BE%E6%8A%97%E5%91%AA%E6%96%87/product/A25-CU-050-JP-NM-normal/'}\n",
      "{'name': '(A25-CU)Counterspell/対抗呪文日本語 EX', 'shop': 'Enndal Games', 'price': '80', 'stock': '2', 'url': 'https://www.enndalgames.com/%28A25-CU%29Counterspell%2F%E5%AF%BE%E6%8A%97%E5%91%AA%E6%96%87/product/A25-CU-050-JP-NM-normal/'}\n",
      "{'name': '(MMQ-CU)Counterspell/対抗呪文日本語 NM', 'shop': 'Enndal Games', 'price': '79', 'stock': '29', 'url': 'https://www.enndalgames.com/%28MMQ-CU%29Counterspell%2F%E5%AF%BE%E6%8A%97%E5%91%AA%E6%96%87/product/MMQ-CU-069-JP-NM-normal/'}\n",
      "{'name': '(MMQ-CU)Counterspell/対抗呪文日本語 EX', 'shop': 'Enndal Games', 'price': '50', 'stock': '10', 'url': 'https://www.enndalgames.com/%28MMQ-CU%29Counterspell%2F%E5%AF%BE%E6%8A%97%E5%91%AA%E6%96%87/product/MMQ-CU-069-JP-NM-normal/'}\n",
      "{'name': '(TMP-CU)Counterspell/対抗呪文日本語 NM', 'shop': 'Enndal Games', 'price': '99', 'stock': '71', 'url': 'https://www.enndalgames.com/%28TMP-CU%29Counterspell%2F%E5%AF%BE%E6%8A%97%E5%91%AA%E6%96%87/product/TMP-CU-057-JP-NM-normal/'}\n",
      "{'name': '(TMP-CU)Counterspell/対抗呪文日本語 EX', 'shop': 'Enndal Games', 'price': '80', 'stock': '129', 'url': 'https://www.enndalgames.com/%28TMP-CU%29Counterspell%2F%E5%AF%BE%E6%8A%97%E5%91%AA%E6%96%87/product/TMP-CU-057-JP-NM-normal/'}\n",
      "{'name': '(7ED-CU)Counterspell/対抗呪文日本語 NM', 'shop': 'Enndal Games', 'price': '149', 'stock': '84', 'url': 'https://www.enndalgames.com/%287ED-CU%29Counterspell%2F%E5%AF%BE%E6%8A%97%E5%91%AA%E6%96%87/product/7ED-CU-067-JP-NM-normal/'}\n",
      "{'name': '(7ED-CU)Counterspell/対抗呪文日本語 EX', 'shop': 'Enndal Games', 'price': '120', 'stock': '92', 'url': 'https://www.enndalgames.com/%287ED-CU%29Counterspell%2F%E5%AF%BE%E6%8A%97%E5%91%AA%E6%96%87/product/7ED-CU-067-JP-NM-normal/'}\n",
      "{'name': '(6ED-CU)Counterspell/対抗呪文日本語 NM', 'shop': 'Enndal Games', 'price': '99', 'stock': '171', 'url': 'https://www.enndalgames.com/%286ED-CU%29Counterspell%2F%E5%AF%BE%E6%8A%97%E5%91%AA%E6%96%87/product/6ED-CU-061-JP-NM-normal/'}\n",
      "{'name': '(6ED-CU)Counterspell/対抗呪文日本語 EX', 'shop': 'Enndal Games', 'price': '80', 'stock': '108', 'url': 'https://www.enndalgames.com/%286ED-CU%29Counterspell%2F%E5%AF%BE%E6%8A%97%E5%91%AA%E6%96%87/product/6ED-CU-061-JP-NM-normal/'}\n",
      "{'name': '(5ED-CU)Counterspell/対抗呪文日本語 NM', 'shop': 'Enndal Games', 'price': '99', 'stock': '54', 'url': 'https://www.enndalgames.com/%285ED-CU%29Counterspell%2F%E5%AF%BE%E6%8A%97%E5%91%AA%E6%96%87/product/5ED-CU-077-JP-NM-normal/'}\n",
      "{'name': '(5ED-CU)Counterspell/対抗呪文日本語 EX', 'shop': 'Enndal Games', 'price': '80', 'stock': '124', 'url': 'https://www.enndalgames.com/%285ED-CU%29Counterspell%2F%E5%AF%BE%E6%8A%97%E5%91%AA%E6%96%87/product/5ED-CU-077-JP-NM-normal/'}\n",
      "{'name': '(4ED-UU)Counterspell/対抗呪文日本語 NM', 'shop': 'Enndal Games', 'price': '1299', 'stock': '8', 'url': 'https://www.enndalgames.com/%284ED-UU%29Counterspell%2F%E5%AF%BE%E6%8A%97%E5%91%AA%E6%96%87/product/4ED-UU-065-JP-NM-normal/'}\n",
      "{'name': '(4ED-UU)Counterspell/対抗呪文日本語 EX', 'shop': 'Enndal Games', 'price': '1000', 'stock': '6', 'url': 'https://www.enndalgames.com/%284ED-UU%29Counterspell%2F%E5%AF%BE%E6%8A%97%E5%91%AA%E6%96%87/product/4ED-UU-065-JP-NM-normal/'}\n",
      "{'name': '(EMA-CU)Counterspell/対抗呪文日本語 NM', 'shop': 'Enndal Games', 'price': '99', 'stock': '102', 'url': 'https://www.enndalgames.com/%28EMA-CU%29Counterspell%2F%E5%AF%BE%E6%8A%97%E5%91%AA%E6%96%87/product/EMA-CU-043-JP-NM-normal/'}\n",
      "{'name': '(EMA-CU)Counterspell/対抗呪文日本語 EX', 'shop': 'Enndal Games', 'price': '80', 'stock': '7', 'url': 'https://www.enndalgames.com/%28EMA-CU%29Counterspell%2F%E5%AF%BE%E6%8A%97%E5%91%AA%E6%96%87/product/EMA-CU-043-JP-NM-normal/'}\n",
      "{'name': '【拡張アート】(CMR-CU)Counterspell/対抗呪文日本語 NM', 'shop': 'Enndal Games', 'price': '299', 'stock': '2', 'url': 'https://www.enndalgames.com/%E3%80%90%E6%8B%A1%E5%BC%B5%E3%82%A2%E3%83%BC%E3%83%88%E3%80%91%28CMR-CU%29Counterspell%2F%E5%AF%BE%E6%8A%97%E5%91%AA%E6%96%87/product/CMR-CU-632-JP-NM-normal/'}\n"
     ]
    }
   ],
   "source": [
    "for result in results:\n",
    "    print(result)\n",
    "browser.close()"
   ]
  },
  {
   "cell_type": "code",
   "execution_count": null,
   "metadata": {},
   "outputs": [],
   "source": []
  }
 ],
 "metadata": {
  "kernelspec": {
   "display_name": "Python 3",
   "language": "python",
   "name": "python3"
  },
  "language_info": {
   "codemirror_mode": {
    "name": "ipython",
    "version": 3
   },
   "file_extension": ".py",
   "mimetype": "text/x-python",
   "name": "python",
   "nbconvert_exporter": "python",
   "pygments_lexer": "ipython3",
   "version": "3.8.3"
  }
 },
 "nbformat": 4,
 "nbformat_minor": 4
}
